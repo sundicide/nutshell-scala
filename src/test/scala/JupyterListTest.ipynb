{
 "cells": [
  {
   "cell_type": "markdown",
   "metadata": {},
   "source": [
    "# reduceLeft, reduceRight\n",
    "\n",
    "left는 down => top\n",
    "right는 top => down이 된다.\n",
    "\n",
    "reduce의 결과는 내부 원소와 같은 결과가 되어야 한다.\n",
    "예를 들어 List[Int]일 경우 결과 타입도 List[Int]가 되어야 한다."
   ]
  },
  {
   "cell_type": "code",
   "execution_count": 8,
   "metadata": {},
   "outputs": [
    {
     "data": {
      "text/plain": [
       "\u001b[36mlist\u001b[39m: \u001b[32mList\u001b[39m[\u001b[32mInt\u001b[39m] = \u001b[33mList\u001b[39m(\u001b[32m1\u001b[39m, \u001b[32m2\u001b[39m, \u001b[32m3\u001b[39m, \u001b[32m4\u001b[39m)\n",
       "\u001b[36mres7_1\u001b[39m: \u001b[32mInt\u001b[39m = \u001b[32m10\u001b[39m\n",
       "\u001b[36mres7_2\u001b[39m: \u001b[32mInt\u001b[39m = \u001b[32m10\u001b[39m"
      ]
     },
     "execution_count": 8,
     "metadata": {},
     "output_type": "execute_result"
    }
   ],
   "source": [
    "val list = List(1,2,3,4)\n",
    "\n",
    "list.reduceLeft(_ + _)\n",
    "list.reduceLeft((before, after) => before + after)\n",
    "\n",
    "// elem이 Int인데 결과가 String이 될 수 없다!\n",
    "// list.reduceLeft((before, after) => s\"$before  $after\")"
   ]
  },
  {
   "cell_type": "code",
   "execution_count": 9,
   "metadata": {},
   "outputs": [
    {
     "data": {
      "text/plain": [
       "\u001b[36mlist\u001b[39m: \u001b[32mList\u001b[39m[\u001b[32mString\u001b[39m] = \u001b[33mList\u001b[39m(\u001b[32m\"a\"\u001b[39m, \u001b[32m\"b\"\u001b[39m, \u001b[32m\"c\"\u001b[39m, \u001b[32m\"d\"\u001b[39m)\n",
       "\u001b[36mres8_1\u001b[39m: \u001b[32mString\u001b[39m = \u001b[32m\"abcd\"\u001b[39m\n",
       "\u001b[36mres8_2\u001b[39m: \u001b[32mString\u001b[39m = \u001b[32m\"abcd\"\u001b[39m\n",
       "\u001b[36mintList\u001b[39m: \u001b[32mList\u001b[39m[\u001b[32mDouble\u001b[39m] = \u001b[33mList\u001b[39m(\u001b[32m1.0\u001b[39m, \u001b[32m2.0\u001b[39m, \u001b[32m3.0\u001b[39m, \u001b[32m4.0\u001b[39m)\n",
       "\u001b[36mres8_4\u001b[39m: \u001b[32mDouble\u001b[39m = \u001b[32m0.041666666666666664\u001b[39m\n",
       "\u001b[36mres8_5\u001b[39m: \u001b[32mDouble\u001b[39m = \u001b[32m0.375\u001b[39m"
      ]
     },
     "execution_count": 9,
     "metadata": {},
     "output_type": "execute_result"
    }
   ],
   "source": [
    "val list = List(\"a\", \"b\", \"c\", \"d\")\n",
    "\n",
    "list.reduceLeft(_ + _)\n",
    "list.reduceRight(_ + _)\n",
    "\n",
    "// 괄호가 묶이는 순서가 바뀌는 것에 주의해라\n",
    "val intList = List (1.0, 2.0, 3.0, 4.0)\n",
    "intList.reduceLeft(_ / _) // ((1 / 2) / 3) / 4) => 0.5 / 3 / 4 => 0.1666 / 4 => 0.0416...\n",
    "intList.reduceRight(_ / _) // (1 / (2 / (3 / 4))) => 1 / (2 / 0.75) => 1 / 2.66 => 0.375"
   ]
  },
  {
   "cell_type": "markdown",
   "metadata": {},
   "source": [
    "# foldLeft, foldRight\n",
    "\n",
    "reduce 시리즈에서 초기값이 주어진다는 점이 다르다.\n",
    "\n",
    "초기값 과 결과 값의 타입을 맞춰줘야 한다."
   ]
  },
  {
   "cell_type": "code",
   "execution_count": 10,
   "metadata": {},
   "outputs": [
    {
     "data": {
      "text/plain": [
       "\u001b[36mlist\u001b[39m: \u001b[32mList\u001b[39m[\u001b[32mInt\u001b[39m] = \u001b[33mList\u001b[39m(\u001b[32m1\u001b[39m, \u001b[32m2\u001b[39m, \u001b[32m3\u001b[39m, \u001b[32m4\u001b[39m)\n",
       "\u001b[36mres9_1\u001b[39m: \u001b[32mInt\u001b[39m = \u001b[32m20\u001b[39m"
      ]
     },
     "execution_count": 10,
     "metadata": {},
     "output_type": "execute_result"
    }
   ],
   "source": [
    "val list = List(1,2,3,4)\n",
    "\n",
    "list.foldLeft(10)(_ + _) // 10 + 1 + 2 + 3 + 4"
   ]
  },
  {
   "cell_type": "markdown",
   "metadata": {},
   "source": []
  }
 ],
 "metadata": {
  "kernelspec": {
   "display_name": "Scala",
   "language": "scala",
   "name": "scala"
  },
  "language_info": {
   "codemirror_mode": "text/x-scala",
   "file_extension": ".sc",
   "mimetype": "text/x-scala",
   "name": "scala",
   "nbconvert_exporter": "script",
   "version": "2.12.12"
  },
  "orig_nbformat": 4
 },
 "nbformat": 4,
 "nbformat_minor": 2
}
